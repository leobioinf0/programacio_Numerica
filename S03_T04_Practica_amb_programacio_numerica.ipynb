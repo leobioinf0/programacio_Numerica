{
  "nbformat": 4,
  "nbformat_minor": 0,
  "metadata": {
    "colab": {
      "name": "S03-T04-Practica_amb_programacio_numerica.ipynb",
      "provenance": [],
      "collapsed_sections": []
    },
    "kernelspec": {
      "name": "python3",
      "display_name": "Python 3"
    },
    "language_info": {
      "name": "python"
    }
  },
  "cells": [
    {
      "cell_type": "markdown",
      "metadata": {
        "id": "Gi7tGb8aNkuA"
      },
      "source": [
        "##Descripció\n",
        "\n",
        "Familiaritza't amb la Programació Numèrica a través de la llibreria NumPy.\n"
      ]
    },
    {
      "cell_type": "markdown",
      "metadata": {
        "id": "6d-peHgpNp92"
      },
      "source": [
        "#Nivell 1\n"
      ]
    },
    {
      "cell_type": "markdown",
      "metadata": {
        "id": "EjZQzfXuNzeH"
      },
      "source": [
        "##Exercici 1\n",
        "\n",
        "Crea una funció que donat un Array d’una dimensió, et faci un resum estadístic bàsic de les dades. Si detecta que l’array té més d’una dimensió, ha de mostrar un missatge d’error.\n",
        "\n"
      ]
    },
    {
      "cell_type": "code",
      "metadata": {
        "id": "8xz4Cqq5k0BF"
      },
      "source": [
        "import numpy as np"
      ],
      "execution_count": 1,
      "outputs": []
    },
    {
      "cell_type": "code",
      "metadata": {
        "id": "XPzWlH62shl_"
      },
      "source": [
        "def basicstats(a):\n",
        "    '''\n",
        "    Compute several descriptive statistics of the passed 1D array.\n",
        "    '''\n",
        "    if a.ndim != 1:\n",
        "        print(\"Error, the array contains {} dimension/s\\n\".format(a.ndim))\n",
        "    else:\n",
        "        print(\"Nobs={}\\nMin={}\\nMax={}\\nRange={}\\nMean={}\\nMedian={}\\nStandard deviation={}\\nVariance={}\\n\"\\\n",
        "              .format(a.size, np.amin(a), np.amax(a), np.ptp(a), np.mean(a), \\\n",
        "                      np.median(a),np.std(a) ,np.var(a)))"
      ],
      "execution_count": 2,
      "outputs": []
    },
    {
      "cell_type": "code",
      "metadata": {
        "colab": {
          "base_uri": "https://localhost:8080/"
        },
        "id": "KVla_k2cv3VH",
        "outputId": "674a6bfc-c761-4652-ee43-f46a17fd796a"
      },
      "source": [
        "a = np.array([1, 2, 2, 4, 5])\n",
        "basicstats(a)\n",
        "\n",
        "b = np.array([[1, 2, 2, 4, 5],[1, 2, 2, 4, 5]])\n",
        "basicstats(b)\n",
        "\n",
        "c = np.array(42)\n",
        "basicstats(c)"
      ],
      "execution_count": 3,
      "outputs": [
        {
          "output_type": "stream",
          "text": [
            "Nobs=5\n",
            "Min=1\n",
            "Max=5\n",
            "Range=4\n",
            "Mean=2.8\n",
            "Median=2.0\n",
            "Standard deviation=1.469693845669907\n",
            "Variance=2.16\n",
            "\n",
            "Error, the array contains 2 dimension/s\n",
            "\n",
            "Error, the array contains 0 dimension/s\n",
            "\n"
          ],
          "name": "stdout"
        }
      ]
    },
    {
      "cell_type": "markdown",
      "metadata": {
        "id": "bUQHsQMcN1Vt"
      },
      "source": [
        "##Exercici 2\n",
        "\n",
        "Crea una funció que et generi un quadrat NxN de nombres aleatoris entre el 0 i el 100.\n",
        "\n"
      ]
    },
    {
      "cell_type": "code",
      "metadata": {
        "colab": {
          "base_uri": "https://localhost:8080/"
        },
        "id": "IzKlZAhZ1udG",
        "outputId": "fa3a9142-34d2-4f30-f32b-190b424800ef"
      },
      "source": [
        "def rnd(n):\n",
        "    '''\n",
        "    Generate a N x N array of ints between 0 and 100, inclusive.\n",
        "    '''\n",
        "    return np.random.randint(low=0, high=100, size=(n, n), dtype=int)\n",
        "\n",
        "rnd(3)"
      ],
      "execution_count": 4,
      "outputs": [
        {
          "output_type": "execute_result",
          "data": {
            "text/plain": [
              "array([[22, 94, 25],\n",
              "       [93,  2, 11],\n",
              "       [99, 46, 61]])"
            ]
          },
          "metadata": {
            "tags": []
          },
          "execution_count": 4
        }
      ]
    },
    {
      "cell_type": "markdown",
      "metadata": {
        "id": "N-5yUtu-N2xR"
      },
      "source": [
        "##Exercici 3\n",
        "\n",
        "Crea una funció que donada una taula de dues dimensions, et calculi els totals per fila i els totals per columna.\n",
        "\n"
      ]
    },
    {
      "cell_type": "code",
      "metadata": {
        "colab": {
          "base_uri": "https://localhost:8080/"
        },
        "id": "MApGDirz5Ccq",
        "outputId": "701515c8-aeb1-49d4-d9f6-064e7e94a23b"
      },
      "source": [
        "def sumall(n):\n",
        "    '''\n",
        "    Sum of array elements over both axis.\n",
        "    '''\n",
        "    row = np.sum(n, axis=1)\n",
        "    col = np.sum(n, axis=0)\n",
        "    print(\"Row total={}\\nColumn total={}\\n\".format(row,col))\n",
        "\n",
        "sumall([[0, 1], [0, 5]])\n"
      ],
      "execution_count": 5,
      "outputs": [
        {
          "output_type": "stream",
          "text": [
            "Row total=[1 5]\n",
            "Column total=[0 6]\n",
            "\n"
          ],
          "name": "stdout"
        }
      ]
    },
    {
      "cell_type": "markdown",
      "metadata": {
        "id": "pXTNjxsLN5BS"
      },
      "source": [
        "##Exercici 4\n",
        "\n",
        "Implementa manualment una funció que calculi el coeficient de correlació. Informa’t-en sobre els seus usos i interpretació."
      ]
    },
    {
      "cell_type": "markdown",
      "metadata": {
        "id": "xxFHROiAakTp"
      },
      "source": [
        "**Pearson's correlation coefficient** is a measure of linear dependence between two **quantitative random variables**. \n",
        "\n",
        "In a less formal way, we can define Pearson's correlation coefficient as an index that can be used to measure the degree of relationship of two variables as long as they are both quantitative and continuous.\n",
        "\n",
        "The formula return a value between -1 and 1, where:\n",
        "\n",
        "\n",
        "\n",
        "*   1 indicates a strong positive relationship.\n",
        "*   -1 indicates a strong negative relationship.\n",
        "*   A result of zero indicates no relationship at all.\n",
        "\n",
        "\n"
      ]
    },
    {
      "cell_type": "markdown",
      "metadata": {
        "id": "Tinzgwy3mxJu"
      },
      "source": [
        "\n",
        "### Manual implementation\n",
        "\n"
      ]
    },
    {
      "cell_type": "markdown",
      "metadata": {
        "id": "SOJ9XqfaTgy2"
      },
      "source": [
        "#### 1- Arithmetic mean\n",
        "\n",
        "$$\\mu = \\frac {\\sum_{i=1}^N x_i }{N}$$"
      ]
    },
    {
      "cell_type": "code",
      "metadata": {
        "id": "dKbf4wMPWq_s"
      },
      "source": [
        "x = np.array([1, 2, 3, 4, 5])\n",
        "y = np.array([1, 2, 3, 4, 5])"
      ],
      "execution_count": 10,
      "outputs": []
    },
    {
      "cell_type": "code",
      "metadata": {
        "colab": {
          "base_uri": "https://localhost:8080/"
        },
        "id": "t-t554XWduxs",
        "outputId": "c91275c8-2c18-488b-d3ed-2bbc664ce030"
      },
      "source": [
        "N = len(x)\n",
        "#Arithmetic mean\n",
        "xm = sum(x)/N\n",
        "ym = sum(y)/N\n",
        "print(xm)\n",
        "print(ym)"
      ],
      "execution_count": 11,
      "outputs": [
        {
          "output_type": "stream",
          "text": [
            "3.0\n",
            "3.0\n"
          ],
          "name": "stdout"
        }
      ]
    },
    {
      "cell_type": "markdown",
      "metadata": {
        "id": "C_CPsBCLgea8"
      },
      "source": [
        "#### 2- Variance\n",
        "\n",
        "Population variance\n",
        "\n",
        "$$\\sigma_{N}^2 = \\frac {\\sum_{i=1}^N (x - \\bar{x})^2}{N}$$\n",
        "\n",
        "Sample variance\n",
        "\n",
        "$$S_{N}^2 = \\frac {\\sum_{i=1}^n (x - \\bar{x})^2}{N-1}$$"
      ]
    },
    {
      "cell_type": "code",
      "metadata": {
        "colab": {
          "base_uri": "https://localhost:8080/"
        },
        "id": "p2Xx5S-AfU8K",
        "outputId": "df192d74-a32e-4611-e25a-f18c5bfb62af"
      },
      "source": [
        "#Variance\n",
        "s2x = (sum((x - xm)**2))/N\n",
        "s2y = (sum((y - ym)**2))/N\n",
        "print(s2x)\n",
        "print(s2y)"
      ],
      "execution_count": 12,
      "outputs": [
        {
          "output_type": "stream",
          "text": [
            "2.0\n",
            "2.0\n"
          ],
          "name": "stdout"
        }
      ]
    },
    {
      "cell_type": "markdown",
      "metadata": {
        "id": "LJq05oxAjxCM"
      },
      "source": [
        "#### 3- Standard deviation \n",
        "\n",
        "Population standard deviation:\n",
        "\n",
        "$$\\sigma_{N} = \\sqrt\\frac {\\sum_{i=1}^N (x - \\bar{x})^2}{N}$$\n",
        "\n",
        "Sample standard deviation:\n",
        "\n",
        "$$S_{N} = \\sqrt \\frac {\\sum_{i=1}^n (x - \\bar{x})^2}{N-1}$$"
      ]
    },
    {
      "cell_type": "code",
      "metadata": {
        "colab": {
          "base_uri": "https://localhost:8080/"
        },
        "id": "Olu4Q0NXkkSn",
        "outputId": "32ccd262-93c8-4278-aa13-c880c1bd7f08"
      },
      "source": [
        "#Standard deviation\n",
        "sx = ((sum((x - xm)**2))/N)**(1/2)\n",
        "sy = ((sum((y - ym)**2))/N)**(1/2)\n",
        "print(sx)\n",
        "print(sy)"
      ],
      "execution_count": 13,
      "outputs": [
        {
          "output_type": "stream",
          "text": [
            "1.4142135623730951\n",
            "1.4142135623730951\n"
          ],
          "name": "stdout"
        }
      ]
    },
    {
      "cell_type": "markdown",
      "metadata": {
        "id": "p6Yz0a27msMV"
      },
      "source": [
        "#### 4- Covariance\n",
        "\n",
        "$$\\sigma_{xy} = \\frac {\\sum_{i=1}^N x_i y_i }{N} - \\bar{x} \\cdot \\bar{y}$$"
      ]
    },
    {
      "cell_type": "code",
      "metadata": {
        "colab": {
          "base_uri": "https://localhost:8080/"
        },
        "id": "6hggrGfteVv1",
        "outputId": "f253e286-c1ae-4937-a24e-3ec86e1d1c2d"
      },
      "source": [
        "#Covariance\n",
        "sxy = (sum(x * y) / N) - (xm * ym)\n",
        "print(sxy)"
      ],
      "execution_count": 14,
      "outputs": [
        {
          "output_type": "stream",
          "text": [
            "2.0\n"
          ],
          "name": "stdout"
        }
      ]
    },
    {
      "cell_type": "markdown",
      "metadata": {
        "id": "uUGJMnlpyK_w"
      },
      "source": [
        "#### 5- Correlation Coefficient\n",
        "\n",
        "$$\\rho_{xy} = \\frac {\\sigma_{xy}}{\\sigma_{x} \\cdot \\sigma_{y}} = \\frac {Cov(xy)} {\\sqrt {Var(x) \\cdot Var(y)}}$$"
      ]
    },
    {
      "cell_type": "code",
      "metadata": {
        "colab": {
          "base_uri": "https://localhost:8080/"
        },
        "id": "8AdQc4wXwRXL",
        "outputId": "e2192bc0-3be6-4ad5-fb60-2222abfbf19d"
      },
      "source": [
        "#Correlation Coefficient\n",
        "rxy = sxy / (sx * sy)\n",
        "print(rxy)"
      ],
      "execution_count": 15,
      "outputs": [
        {
          "output_type": "stream",
          "text": [
            "0.9999999999999998\n"
          ],
          "name": "stdout"
        }
      ]
    },
    {
      "cell_type": "markdown",
      "metadata": {
        "id": "YQVOCioAVwp6"
      },
      "source": [
        "### Function"
      ]
    },
    {
      "cell_type": "code",
      "metadata": {
        "id": "IA4ubEl7xYaa"
      },
      "source": [
        "def corr_coef(x, y):\n",
        "    \"\"\"\n",
        "    Function that calculates the correlation coefficient of two lists\n",
        "    \"\"\"\n",
        "    import numpy as np\n",
        "    #convert to numpy array\n",
        "    x = np.array(x)\n",
        "    y = np.array(y)\n",
        "\n",
        "    #Tamaño\n",
        "    N = len(x)\n",
        "\n",
        "    #Media aritmética\n",
        "    xm = sum(x)/N\n",
        "    ym = sum(y)/N\n",
        "\n",
        "    #desviación estándar \n",
        "    sx = ((sum((x - xm)**2))/N)**(1/2)\n",
        "    sy = ((sum((y - ym)**2))/N)**(1/2)\n",
        "\n",
        "    #Covarianza\n",
        "    sxy = (sum(x * y) / N) - (xm * ym)\n",
        "\n",
        "    #Coeficiente de correlación\n",
        "    rxy = sxy / (sx * sy)\n",
        "\n",
        "    return rxy"
      ],
      "execution_count": 17,
      "outputs": []
    },
    {
      "cell_type": "code",
      "metadata": {
        "colab": {
          "base_uri": "https://localhost:8080/",
          "height": 282
        },
        "id": "QuJfn6Q3IGdG",
        "outputId": "00cf88dc-4a78-48e9-b387-f20af58124b0"
      },
      "source": [
        "from matplotlib import pyplot\n",
        "x = [1, 2, 3, 4, 5]\n",
        "y = [1, 2, 3, 4, 5]\n",
        "\n",
        "# plot\n",
        "pyplot.scatter(x, y)\n",
        "pyplot.show()\n",
        "\n",
        "corr_coef(x, y)"
      ],
      "execution_count": 18,
      "outputs": [
        {
          "output_type": "display_data",
          "data": {
            "image/png": "[encoded data removed]",
            "text/plain": [
              "<Figure size 432x288 with 1 Axes>"
            ]
          },
          "metadata": {
            "tags": [],
            "needs_background": "light"
          }
        },
        {
          "output_type": "execute_result",
          "data": {
            "text/plain": [
              "0.9999999999999998"
            ]
          },
          "metadata": {
            "tags": []
          },
          "execution_count": 18
        }
      ]
    },
    {
      "cell_type": "code",
      "metadata": {
        "colab": {
          "base_uri": "https://localhost:8080/",
          "height": 282
        },
        "id": "UTmpGpwVHzdg",
        "outputId": "327437ca-8c69-466b-8bf2-ef4634eb04f0"
      },
      "source": [
        "x = [1, 2, 3, 4, 5]\n",
        "y = [-1, -2, -3, -4, -5]\n",
        "\n",
        "# plot\n",
        "pyplot.scatter(x, y)\n",
        "pyplot.show()\n",
        "\n",
        "corr_coef(x, y)"
      ],
      "execution_count": 19,
      "outputs": [
        {
          "output_type": "display_data",
          "data": {
            "image/png": "[encoded data removed]",
            "text/plain": [
              "<Figure size 432x288 with 1 Axes>"
            ]
          },
          "metadata": {
            "tags": [],
            "needs_background": "light"
          }
        },
        {
          "output_type": "execute_result",
          "data": {
            "text/plain": [
              "-0.9999999999999998"
            ]
          },
          "metadata": {
            "tags": []
          },
          "execution_count": 19
        }
      ]
    },
    {
      "cell_type": "code",
      "metadata": {
        "colab": {
          "base_uri": "https://localhost:8080/",
          "height": 282
        },
        "id": "bnNYE2UXIS7B",
        "outputId": "c31ed561-c5df-41b4-956d-ca9553ac254f"
      },
      "source": [
        "x = [1, 2, 3, 4, 5]\n",
        "y = [2, 1, 2, 1, 2]\n",
        "\n",
        "# plot\n",
        "pyplot.scatter(x, y)\n",
        "pyplot.show()\n",
        "\n",
        "corr_coef(x, y)"
      ],
      "execution_count": 20,
      "outputs": [
        {
          "output_type": "display_data",
          "data": {
            "image/png": "[encoded data removed]",
            "text/plain": [
              "<Figure size 432x288 with 1 Axes>"
            ]
          },
          "metadata": {
            "tags": [],
            "needs_background": "light"
          }
        },
        {
          "output_type": "execute_result",
          "data": {
            "text/plain": [
              "-1.2819751242557092e-15"
            ]
          },
          "metadata": {
            "tags": []
          },
          "execution_count": 20
        }
      ]
    }
  ]
}